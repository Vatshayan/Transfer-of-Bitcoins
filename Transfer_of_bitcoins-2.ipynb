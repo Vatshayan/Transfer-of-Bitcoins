{
  "nbformat": 4,
  "nbformat_minor": 0,
  "metadata": {
    "colab": {
      "name": "Transfer of bitcoins.ipynb",
      "provenance": []
    },
    "kernelspec": {
      "name": "python3",
      "display_name": "Python 3"
    },
    "language_info": {
      "name": "python"
    }
  },
  "cells": [
    {
      "cell_type": "code",
      "execution_count": 1,
      "metadata": {
        "id": "0RkIkAJamLdp"
      },
      "outputs": [],
      "source": [
        "import hashlib\n",
        "import json\n",
        "from time import time"
      ]
    },
    {
      "cell_type": "code",
      "source": [
        "class block_chain(object):\n",
        "    def __init__(self):\n",
        "        self.chain = []\n",
        "        self.pending_transactions = []\n",
        "\n",
        "        self.new_block(previous_hash=\"1\", proof=100)\n",
        "\n",
        "        # Create a new block listing key/value pairs of block information in a JSON object. Reset the list of pending transactions & append the newest block to the chain.\n",
        "\n",
        "    def new_block(self, proof, previous_hash=None):\n",
        "        block = {\n",
        "            'index': len(self.chain) + 1,\n",
        "            'timestamp': time(),\n",
        "            'transactions': self.pending_transactions,\n",
        "            'proof': proof,\n",
        "            'previous_hash': previous_hash or self.hash(self.chain[-1]),\n",
        "        }\n",
        "        self.pending_transactions = []\n",
        "        self.chain.append(block)\n",
        "\n",
        "        return block\n",
        "\n",
        "#Write Functions to Create New Transactions & Get the Last Block\n",
        "\n",
        "#Search the blockchain for the most recent block.\n",
        "\n",
        "\n",
        "    @property\n",
        "    def last_block(self):\n",
        " \n",
        "        return self.chain[-1]\n",
        "\n",
        "# Add a transaction with relevant info to the 'blockpool' - list of pending tx's. \n",
        "\n",
        "    def new_transaction(self, sender, recipient, amount):\n",
        "        transaction = {\n",
        "            'sender': sender,\n",
        "            'recipient': recipient,\n",
        "            'amount': amount\n",
        "        }\n",
        "        self.pending_transactions.append(transaction)\n",
        "        return self.last_block['index'] + 1\n",
        "\n",
        "# receive one block. Turn it into a string, turn that into Unicode (for hashing). Hash with SHA256 encryption, then translate the Unicode into a hexidecimal string.\n",
        "\n",
        "    def hash(self, block):\n",
        "        string_object = json.dumps(block, sort_keys=True)\n",
        "        block_string = string_object.encode()\n",
        "\n",
        "        raw_hash = hashlib.sha256(block_string)\n",
        "        hex_hash = raw_hash.hexdigest()\n",
        "\n",
        "        return hex_hash"
      ],
      "metadata": {
        "id": "qljtSq1t0kOu"
      },
      "execution_count": 2,
      "outputs": []
    },
    {
      "cell_type": "code",
      "source": [
        "blockchain = block_chain()\n",
        "t1 = blockchain.new_transaction(\"Sally\", \"Moana\", '2 BTC')\n",
        "t2 = blockchain.new_transaction(\"Moana\", \"Sally\", '3 BTC')\n",
        "t3 = blockchain.new_transaction(\"Sally\", \"Ariana\", '4 BTC')\n",
        "blockchain.new_block(12345)\n",
        "\n",
        "t4 = blockchain.new_transaction(\"Moana\", \"Bella\", '1 BTC')\n",
        "t5 = blockchain.new_transaction(\"Bella\", \"Laura\", '2 BTC')\n",
        "t6 = blockchain.new_transaction(\"Laura\", \"Moana\", '3 BTC')\n",
        "blockchain.new_block(6789)\n",
        "\n",
        "print(\"Genesis block: \",  blockchain.chain)"
      ],
      "metadata": {
        "colab": {
          "base_uri": "https://localhost:8080/"
        },
        "id": "ESlV2Yv20rKe",
        "outputId": "8b43cf5c-8022-40ce-87ee-c7a7a3914a42"
      },
      "execution_count": 9,
      "outputs": [
        {
          "output_type": "stream",
          "name": "stdout",
          "text": [
            "Genesis block:  [{'index': 1, 'timestamp': 1642956343.5239315, 'transactions': [], 'proof': 100, 'previous_hash': '1'}, {'index': 2, 'timestamp': 1642956343.5241275, 'transactions': [{'sender': 'Sally', 'recipient': 'Moana', 'amount': '2 BTC'}, {'sender': 'Moana', 'recipient': 'Sally', 'amount': '3 BTC'}, {'sender': 'Sally', 'recipient': 'Ariana', 'amount': '4 BTC'}], 'proof': 12345, 'previous_hash': '239ab8bfaf460b299ad1f357d636bb4e6d945eebc2f63366a1cc1c7ef3b77ecc'}, {'index': 3, 'timestamp': 1642956343.5243366, 'transactions': [{'sender': 'Moana', 'recipient': 'Bella', 'amount': '1 BTC'}, {'sender': 'Bella', 'recipient': 'Laura', 'amount': '2 BTC'}, {'sender': 'Laura', 'recipient': 'Moana', 'amount': '3 BTC'}], 'proof': 6789, 'previous_hash': 'e6d640a7d2f327daa327cbac78bc870b3a24ff9d02b4767cdc11c5edac45b65a'}]\n"
          ]
        }
      ]
    },
    {
      "cell_type": "code",
      "source": [
        ""
      ],
      "metadata": {
        "id": "ql1kMZjU07Pb"
      },
      "execution_count": null,
      "outputs": []
    },
    {
      "cell_type": "code",
      "source": [
        ""
      ],
      "metadata": {
        "id": "VKTHD4WR6oyM"
      },
      "execution_count": null,
      "outputs": []
    },
    {
      "cell_type": "code",
      "source": [
        ""
      ],
      "metadata": {
        "id": "sWHaGdsm6ovb"
      },
      "execution_count": null,
      "outputs": []
    },
    {
      "cell_type": "markdown",
      "source": [
        "# Hi there, \n",
        "\n",
        "If you need any help on Blockchain Project.\n",
        "\n",
        "\n",
        "Please Contact me(vatshayan)\n",
        "\n",
        "**Mail Id : vatshayan007@gmail.com**\n"
      ],
      "metadata": {
        "id": "TJrUwBFp6XvE"
      }
    },
    {
      "cell_type": "code",
      "source": [
        ""
      ],
      "metadata": {
        "id": "IogJx07Y6r8Z"
      },
      "execution_count": null,
      "outputs": []
    }
  ]
}